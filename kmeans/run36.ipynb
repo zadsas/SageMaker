{
 "cells": [
  {
   "cell_type": "code",
   "execution_count": null,
   "metadata": {},
   "outputs": [],
   "source": [
    "prefix = 'kmeans'\n",
    "\n",
    "import boto3\n",
    "import re\n",
    "\n",
    "import os\n",
    "import numpy as np\n",
    "import pandas as pd\n",
    "from sagemaker import get_execution_role\n",
    "\n",
    "role = get_execution_role()"
   ]
  },
  {
   "cell_type": "code",
   "execution_count": null,
   "metadata": {},
   "outputs": [],
   "source": [
    "import sagemaker as sage\n",
    "from time import gmtime, strftime\n",
    "\n",
    "sess = sage.Session()"
   ]
  },
  {
   "cell_type": "code",
   "execution_count": null,
   "metadata": {},
   "outputs": [],
   "source": [
    "import matplotlib.pyplot as plt\n",
    "df = pd.read_csv('training-data/kmeans_input.csv')\n",
    "x = df.iloc[:,0].values\n",
    "y = df.iloc[:,1].values\n",
    "plt.scatter(x,y)"
   ]
  },
  {
   "cell_type": "code",
   "execution_count": null,
   "metadata": {},
   "outputs": [],
   "source": [
    "WORK_DIRECTORY = 'training-data'\n",
    "data_location = sess.upload_data(WORK_DIRECTORY, key_prefix=prefix)"
   ]
  },
  {
   "cell_type": "code",
   "execution_count": null,
   "metadata": {},
   "outputs": [],
   "source": [
    "account = sess.boto_session.client('sts').get_caller_identity()['Account']\n",
    "region = sess.boto_session.region_name\n",
    "image = f'{account}.dkr.ecr.{region}.amazonaws.com/{prefix}:latest'\n",
    "\n",
    "kmeans_estimator = sage.estimator.Estimator(\n",
    "    image, \n",
    "    role, \n",
    "    1, \n",
    "    'ml.c4.2xlarge', \n",
    "    output_path=\"s3://{}/{}/kmeans_output\".format(sess.default_bucket(), prefix),\n",
    "    sagemaker_session=sess)\n",
    "\n",
    "kmeans_estimator.fit(data_location)"
   ]
  },
  {
   "cell_type": "code",
   "execution_count": null,
   "metadata": {},
   "outputs": [],
   "source": [
    "import tarfile\n",
    "import boto3\n",
    "from io import BytesIO\n",
    "import pickle\n",
    "\n",
    "s3 = boto3.resource('s3')\n",
    "path = \"{}/kmeans_output/{}/output/model.tar.gz\".format(prefix, kmeans_estimator.latest_training_job.job_name)\n",
    "bucket = s3.Bucket(sess.default_bucket())\n",
    "compressed = BytesIO()\n",
    "bucket.download_fileobj(path, compressed)\n",
    "compressed.seek(0)\n",
    "tar = tarfile.open(\"r:gz\", fileobj=compressed)\n",
    "f = tar.extractfile('kmeans.sav')\n",
    "m = pickle.load(f, encoding='latin1')"
   ]
  },
  {
   "cell_type": "code",
   "execution_count": null,
   "metadata": {},
   "outputs": [],
   "source": [
    "plt.scatter(x,y,c=m.labels_)"
   ]
  },
  {
   "cell_type": "code",
   "execution_count": null,
   "metadata": {},
   "outputs": [],
   "source": [
    "from sagemaker.predictor import csv_serializer\n",
    "kmeans_predictor = kmeans_estimator.deploy(1, 'ml.m4.xlarge', serializer=csv_serializer)"
   ]
  },
  {
   "cell_type": "code",
   "execution_count": null,
   "metadata": {},
   "outputs": [],
   "source": [
    "input = \"\"\"x1,x2\n",
    "-10,-10\"\"\"\n",
    "r = kmeans_pred]\\\\ictor.predict(input).decode('utf-8')\n",
    "print(r)"
   ]
  },
  {
   "cell_type": "code",
   "execution_count": null,
   "metadata": {},
   "outputs": [],
   "source": []
  }
 ],
 "metadata": {
  "kernelspec": {
   "display_name": "conda_python3",
   "language": "python",
   "name": "conda_python3"
  },
  "language_info": {
   "codemirror_mode": {
    "name": "ipython",
    "version": 3
   },
   "file_extension": ".py",
   "mimetype": "text/x-python",
   "name": "python",
   "nbconvert_exporter": "python",
   "pygments_lexer": "ipython3",
   "version": "3.6.5"
  }
 },
 "nbformat": 4,
 "nbformat_minor": 2
}
